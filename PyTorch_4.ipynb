{
  "nbformat": 4,
  "nbformat_minor": 0,
  "metadata": {
    "colab": {
      "name": "PyTorch_4.ipynb",
      "provenance": [],
      "authorship_tag": "ABX9TyOhnBhFTwcfT+6HRz6rhQ14",
      "include_colab_link": true
    },
    "kernelspec": {
      "name": "python3",
      "display_name": "Python 3"
    },
    "language_info": {
      "name": "python"
    }
  },
  "cells": [
    {
      "cell_type": "markdown",
      "metadata": {
        "id": "view-in-github",
        "colab_type": "text"
      },
      "source": [
        "<a href=\"https://colab.research.google.com/github/gonulsinem/Deep-Learning---Derin-Ogrenme/blob/main/PyTorch_4.ipynb\" target=\"_parent\"><img src=\"https://colab.research.google.com/assets/colab-badge.svg\" alt=\"Open In Colab\"/></a>"
      ]
    },
    {
      "cell_type": "markdown",
      "metadata": {
        "id": "KgYkCiQvwZuq"
      },
      "source": [
        "*  Modeli tasarlama\n",
        "* Loss ve optimizer\n",
        "* Train(Egitim)"
      ]
    },
    {
      "cell_type": "code",
      "metadata": {
        "id": "14xJnHoVwXH-"
      },
      "source": [
        "import torch\n",
        "import torch.nn as nn"
      ],
      "execution_count": 1,
      "outputs": []
    },
    {
      "cell_type": "code",
      "metadata": {
        "id": "4JImbXfZwpdv"
      },
      "source": [
        "x = torch.tensor([2,4,6,8,10], dtype = torch.float32)\n",
        "y = torch.tensor([3,6,9,12,15], dtype= torch.float32)"
      ],
      "execution_count": 5,
      "outputs": []
    },
    {
      "cell_type": "code",
      "metadata": {
        "id": "XEZkX6dyxAJj"
      },
      "source": [
        "# modeli tasarlama ve requires_grad ile optimizasyon islemlerini yapma\n",
        "w = torch.tensor(0.0, dtype = torch.float32, requires_grad=True)"
      ],
      "execution_count": 6,
      "outputs": []
    },
    {
      "cell_type": "code",
      "metadata": {
        "colab": {
          "base_uri": "https://localhost:8080/"
        },
        "id": "vjhBOkwhxeaU",
        "outputId": "fd3aeca5-9783-4bf8-b687-ab44a7e13614"
      },
      "source": [
        "def forward(x):\n",
        "  return w*x #lineer regresyon\n",
        "print(f'egitimden onceki tahmin: f(3)= {forward(3).item():.4f}')  "
      ],
      "execution_count": 10,
      "outputs": [
        {
          "output_type": "stream",
          "name": "stdout",
          "text": [
            "egitimden onceki tahmin: f(3)= 0.0000\n"
          ]
        }
      ]
    },
    {
      "cell_type": "code",
      "metadata": {
        "id": "TcntrhAZyM4o"
      },
      "source": [
        "learning_rate = 0.01 #ogrenme katsayisi\n",
        "epoch_sayisi = 100"
      ],
      "execution_count": 12,
      "outputs": []
    },
    {
      "cell_type": "code",
      "metadata": {
        "id": "S6pSFyOQySQy"
      },
      "source": [
        "loss = nn.MSELoss()\n",
        "optimizer = torch.optim.SGD([w], lr = learning_rate)"
      ],
      "execution_count": 13,
      "outputs": []
    },
    {
      "cell_type": "code",
      "metadata": {
        "colab": {
          "base_uri": "https://localhost:8080/"
        },
        "id": "zdlnSz21ys4S",
        "outputId": "9b91a2cb-2dd1-40d4-b4b4-fe007688209c"
      },
      "source": [
        "#egitim\n",
        "for epoch in range(epoch_sayisi):\n",
        "  y_pred = forward(x) #predict\n",
        "  l = loss(y, y_pred) #loss\n",
        "  l.backward() #geri yayilim hesaplama\n",
        "\n",
        "  optimizer.step()\n",
        "\n",
        "  optimizer.zero_grad()\n",
        "\n",
        "  if epoch %10 == 0:\n",
        "    print('epoch', epoch+1, 'weight-w:', w, 'loss:',l)\n",
        "print('\\n *************** \\n')\n",
        "print(print(f'Egitimden sonra tahmin: f(3) = {forward(3).item():.4f}'))\n",
        "print('f(3)->', forward(3))    "
      ],
      "execution_count": 18,
      "outputs": [
        {
          "output_type": "stream",
          "name": "stdout",
          "text": [
            "epoch 1 weight-w: tensor(1.5000, requires_grad=True) loss: tensor(0., grad_fn=<MseLossBackward>)\n",
            "epoch 11 weight-w: tensor(1.5000, requires_grad=True) loss: tensor(0., grad_fn=<MseLossBackward>)\n",
            "epoch 21 weight-w: tensor(1.5000, requires_grad=True) loss: tensor(0., grad_fn=<MseLossBackward>)\n",
            "epoch 31 weight-w: tensor(1.5000, requires_grad=True) loss: tensor(0., grad_fn=<MseLossBackward>)\n",
            "epoch 41 weight-w: tensor(1.5000, requires_grad=True) loss: tensor(0., grad_fn=<MseLossBackward>)\n",
            "epoch 51 weight-w: tensor(1.5000, requires_grad=True) loss: tensor(0., grad_fn=<MseLossBackward>)\n",
            "epoch 61 weight-w: tensor(1.5000, requires_grad=True) loss: tensor(0., grad_fn=<MseLossBackward>)\n",
            "epoch 71 weight-w: tensor(1.5000, requires_grad=True) loss: tensor(0., grad_fn=<MseLossBackward>)\n",
            "epoch 81 weight-w: tensor(1.5000, requires_grad=True) loss: tensor(0., grad_fn=<MseLossBackward>)\n",
            "epoch 91 weight-w: tensor(1.5000, requires_grad=True) loss: tensor(0., grad_fn=<MseLossBackward>)\n",
            "\n",
            " *************** \n",
            "\n",
            "Egitimden sonra tahmin: f(3) = 4.5000\n",
            "None\n",
            "f(3)-> tensor(4.5000, grad_fn=<MulBackward0>)\n"
          ]
        }
      ]
    }
  ]
}