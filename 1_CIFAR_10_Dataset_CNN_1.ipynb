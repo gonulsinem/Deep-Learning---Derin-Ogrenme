{
  "nbformat": 4,
  "nbformat_minor": 0,
  "metadata": {
    "colab": {
      "name": "1_CIFAR-10_Dataset_CNN_1.ipynb",
      "provenance": [],
      "authorship_tag": "ABX9TyPn6SN1TR2q5RpyTb1eCtpL",
      "include_colab_link": true
    },
    "kernelspec": {
      "name": "python3",
      "display_name": "Python 3"
    },
    "language_info": {
      "name": "python"
    },
    "accelerator": "GPU"
  },
  "cells": [
    {
      "cell_type": "markdown",
      "metadata": {
        "id": "view-in-github",
        "colab_type": "text"
      },
      "source": [
        "<a href=\"https://colab.research.google.com/github/gonulsinem/Deep-Learning---Derin-Ogrenme/blob/main/1_CIFAR_10_Dataset_CNN_1.ipynb\" target=\"_parent\"><img src=\"https://colab.research.google.com/assets/colab-badge.svg\" alt=\"Open In Colab\"/></a>"
      ]
    },
    {
      "cell_type": "code",
      "metadata": {
        "id": "aBzZL-OZs7FN"
      },
      "source": [
        "#kutuphaneler import edildi.\n",
        "import pandas as pd\n",
        "import numpy as np\n",
        "import matplotlib.pyplot as plt\n",
        "\n",
        "from keras import layers, models, losses\n",
        "from keras.preprocessing.image import ImageDataGenerator\n",
        "from tensorflow import keras"
      ],
      "execution_count": 1,
      "outputs": []
    },
    {
      "cell_type": "code",
      "metadata": {
        "colab": {
          "base_uri": "https://localhost:8080/"
        },
        "id": "Wzte--Pitb9-",
        "outputId": "1356aa97-cfc3-4d0c-ad44-1dd65c69b9bc"
      },
      "source": [
        "#dataset yuklendi\n",
        "(train_images, train_labels), (test_images, test_labels) = keras.datasets.cifar10.load_data()"
      ],
      "execution_count": 2,
      "outputs": [
        {
          "output_type": "stream",
          "name": "stdout",
          "text": [
            "Downloading data from https://www.cs.toronto.edu/~kriz/cifar-10-python.tar.gz\n",
            "170500096/170498071 [==============================] - 12s 0us/step\n",
            "170508288/170498071 [==============================] - 12s 0us/step\n"
          ]
        }
      ]
    },
    {
      "cell_type": "code",
      "metadata": {
        "colab": {
          "base_uri": "https://localhost:8080/"
        },
        "id": "Out9MIc8tyTL",
        "outputId": "dca7952c-2366-434f-ddfa-15fea1daeafa"
      },
      "source": [
        "print('Train images shape:', train_images.shape)\n",
        "print('Test images shape:', test_images.shape)"
      ],
      "execution_count": 3,
      "outputs": [
        {
          "output_type": "stream",
          "name": "stdout",
          "text": [
            "Train images shape: (50000, 32, 32, 3)\n",
            "Test images shape: (10000, 32, 32, 3)\n"
          ]
        }
      ]
    },
    {
      "cell_type": "code",
      "metadata": {
        "colab": {
          "base_uri": "https://localhost:8080/"
        },
        "id": "X36BEyX7uFiw",
        "outputId": "a461ee5b-1369-4cd7-a057-2227e1db32d9"
      },
      "source": [
        "print('Train labels:\\n', (pd.DataFrame(train_labels)).value_counts())"
      ],
      "execution_count": 4,
      "outputs": [
        {
          "output_type": "stream",
          "name": "stdout",
          "text": [
            "Train labels:\n",
            " 9    5000\n",
            "8    5000\n",
            "7    5000\n",
            "6    5000\n",
            "5    5000\n",
            "4    5000\n",
            "3    5000\n",
            "2    5000\n",
            "1    5000\n",
            "0    5000\n",
            "dtype: int64\n"
          ]
        }
      ]
    },
    {
      "cell_type": "code",
      "metadata": {
        "id": "xwLPcGSruLb5"
      },
      "source": [
        "class_names=[\"airplane\",\"automobile\",\"bird\",\"cat\",\n",
        "\"deer\",\"dog\",\"frog\",\"horse\",\"ship\",\"truck\"]\n",
        "#class isimleri belirlendi\n"
      ],
      "execution_count": 5,
      "outputs": []
    },
    {
      "cell_type": "code",
      "metadata": {
        "colab": {
          "base_uri": "https://localhost:8080/",
          "height": 284
        },
        "id": "tbsGmrhk2YEB",
        "outputId": "7bf4b7b5-d748-4db5-9f82-c0a80a212067"
      },
      "source": [
        "plt.imshow(train_images[1])\n",
        "print(train_labels[1])"
      ],
      "execution_count": 6,
      "outputs": [
        {
          "output_type": "stream",
          "name": "stdout",
          "text": [
            "[9]\n"
          ]
        },
        {
          "output_type": "display_data",
          "data": {
            "image/png": "[encoded data removed]",
            "text/plain": [
              "<Figure size 432x288 with 1 Axes>"
            ]
          },
          "metadata": {
            "needs_background": "light"
          }
        }
      ]
    },
    {
      "cell_type": "code",
      "metadata": {
        "id": "OOO_yQvsu6Ti"
      },
      "source": [
        "train_images, test_images = train_images/255, test_images/255 #normalize edildi"
      ],
      "execution_count": 7,
      "outputs": []
    },
    {
      "cell_type": "code",
      "metadata": {
        "id": "DNzWHgmOvfYR"
      },
      "source": [
        "model = models.Sequential()\n",
        "#model olusturuldu"
      ],
      "execution_count": 8,
      "outputs": []
    },
    {
      "cell_type": "code",
      "metadata": {
        "id": "J0R-HlGMvkSD"
      },
      "source": [
        "## CNN Layer\n",
        "model.add(layers.Conv2D(32,(3,3), activation='relu', input_shape=(32,32,3)))\n",
        "model.add(layers.MaxPooling2D())\n",
        "model.add(layers.Conv2D(64,(3,3), activation='relu'))\n",
        "model.add(layers.MaxPooling2D())\n",
        "model.add(layers.Conv2D(64,(3,3), activation='relu'))"
      ],
      "execution_count": 9,
      "outputs": []
    },
    {
      "cell_type": "code",
      "metadata": {
        "id": "gD_qPAvIwgBw"
      },
      "source": [
        "#Dense Layers\n",
        "model.add(layers.Flatten())\n",
        "model.add(layers.Dense(64, activation='relu'))\n",
        "model.add(layers.Dense(10))"
      ],
      "execution_count": 10,
      "outputs": []
    },
    {
      "cell_type": "code",
      "metadata": {
        "id": "nhBOrEbYwzIo"
      },
      "source": [
        "#model compile edildi\n",
        "model.compile(optimizer='adam',\n",
        "              loss = losses.SparseCategoricalCrossentropy(from_logits=True),\n",
        "              metrics=['accuracy'])"
      ],
      "execution_count": 11,
      "outputs": []
    },
    {
      "cell_type": "code",
      "metadata": {
        "colab": {
          "base_uri": "https://localhost:8080/"
        },
        "id": "Xeinhpr0xCMI",
        "outputId": "78adde92-1532-404a-bc8d-04079731e0e0"
      },
      "source": [
        "#model ozeti\n",
        "model.summary()"
      ],
      "execution_count": 12,
      "outputs": [
        {
          "output_type": "stream",
          "name": "stdout",
          "text": [
            "Model: \"sequential\"\n",
            "_________________________________________________________________\n",
            "Layer (type)                 Output Shape              Param #   \n",
            "=================================================================\n",
            "conv2d (Conv2D)              (None, 30, 30, 32)        896       \n",
            "_________________________________________________________________\n",
            "max_pooling2d (MaxPooling2D) (None, 15, 15, 32)        0         \n",
            "_________________________________________________________________\n",
            "conv2d_1 (Conv2D)            (None, 13, 13, 64)        18496     \n",
            "_________________________________________________________________\n",
            "max_pooling2d_1 (MaxPooling2 (None, 6, 6, 64)          0         \n",
            "_________________________________________________________________\n",
            "conv2d_2 (Conv2D)            (None, 4, 4, 64)          36928     \n",
            "_________________________________________________________________\n",
            "flatten (Flatten)            (None, 1024)              0         \n",
            "_________________________________________________________________\n",
            "dense (Dense)                (None, 64)                65600     \n",
            "_________________________________________________________________\n",
            "dense_1 (Dense)              (None, 10)                650       \n",
            "=================================================================\n",
            "Total params: 122,570\n",
            "Trainable params: 122,570\n",
            "Non-trainable params: 0\n",
            "_________________________________________________________________\n"
          ]
        }
      ]
    },
    {
      "cell_type": "code",
      "metadata": {
        "id": "IyW9tLR_xEaf"
      },
      "source": [
        "# data augmentation - veri arrtirma\n",
        "datagen = ImageDataGenerator(\n",
        "    rotation_range = 40,\n",
        "    width_shift_range= 0.2,\n",
        "    height_shift_range = 0,\n",
        "    shear_range = 0.2,\n",
        "    zoom_range = 0.2,\n",
        "    horizontal_flip = True,\n",
        "    fill_mode='nearest'\n",
        ")"
      ],
      "execution_count": 13,
      "outputs": []
    },
    {
      "cell_type": "code",
      "metadata": {
        "colab": {
          "base_uri": "https://localhost:8080/"
        },
        "id": "diqOXm7GzBHu",
        "outputId": "2c05b690-d603-49ad-8b87-b26047e892bf"
      },
      "source": [
        "# modelin egitimi\n",
        "model.fit(datagen.flow(train_images,train_labels),\n",
        "          batch_size = 32,\n",
        "          steps_per_epoch = len(train_images)/32,\n",
        "          epochs=25,\n",
        "          verbose=1)"
      ],
      "execution_count": 14,
      "outputs": [
        {
          "output_type": "stream",
          "name": "stdout",
          "text": [
            "Epoch 1/25\n",
            "1562/1562 [==============================] - 68s 24ms/step - loss: 1.7093 - accuracy: 0.1168\n",
            "Epoch 2/25\n",
            "1562/1562 [==============================] - 38s 24ms/step - loss: 1.4583 - accuracy: 0.1016\n",
            "Epoch 3/25\n",
            "1562/1562 [==============================] - 38s 24ms/step - loss: 1.3501 - accuracy: 0.0983\n",
            "Epoch 4/25\n",
            "1562/1562 [==============================] - 38s 25ms/step - loss: 1.2914 - accuracy: 0.0998\n",
            "Epoch 5/25\n",
            "1562/1562 [==============================] - 38s 24ms/step - loss: 1.2345 - accuracy: 0.1010\n",
            "Epoch 6/25\n",
            "1562/1562 [==============================] - 38s 24ms/step - loss: 1.1972 - accuracy: 0.1007\n",
            "Epoch 7/25\n",
            "1562/1562 [==============================] - 38s 24ms/step - loss: 1.1593 - accuracy: 0.0995\n",
            "Epoch 8/25\n",
            "1562/1562 [==============================] - 39s 25ms/step - loss: 1.1313 - accuracy: 0.1005\n",
            "Epoch 9/25\n",
            "1562/1562 [==============================] - 38s 24ms/step - loss: 1.1108 - accuracy: 0.1000\n",
            "Epoch 10/25\n",
            "1562/1562 [==============================] - 38s 25ms/step - loss: 1.0938 - accuracy: 0.1021\n",
            "Epoch 11/25\n",
            "1562/1562 [==============================] - 38s 24ms/step - loss: 1.0745 - accuracy: 0.1016\n",
            "Epoch 12/25\n",
            "1562/1562 [==============================] - 38s 24ms/step - loss: 1.0582 - accuracy: 0.0995\n",
            "Epoch 13/25\n",
            "1562/1562 [==============================] - 38s 25ms/step - loss: 1.0470 - accuracy: 0.1019\n",
            "Epoch 14/25\n",
            "1562/1562 [==============================] - 39s 25ms/step - loss: 1.0360 - accuracy: 0.1035\n",
            "Epoch 15/25\n",
            "1562/1562 [==============================] - 38s 25ms/step - loss: 1.0208 - accuracy: 0.1024\n",
            "Epoch 16/25\n",
            "1562/1562 [==============================] - 38s 24ms/step - loss: 1.0139 - accuracy: 0.1005\n",
            "Epoch 17/25\n",
            "1562/1562 [==============================] - 38s 24ms/step - loss: 1.0101 - accuracy: 0.1001\n",
            "Epoch 18/25\n",
            "1562/1562 [==============================] - 38s 24ms/step - loss: 0.9916 - accuracy: 0.1010\n",
            "Epoch 19/25\n",
            "1562/1562 [==============================] - 38s 24ms/step - loss: 0.9920 - accuracy: 0.1021\n",
            "Epoch 20/25\n",
            "1562/1562 [==============================] - 37s 24ms/step - loss: 0.9748 - accuracy: 0.1018\n",
            "Epoch 21/25\n",
            "1562/1562 [==============================] - 38s 24ms/step - loss: 0.9697 - accuracy: 0.1003\n",
            "Epoch 22/25\n",
            "1562/1562 [==============================] - 38s 24ms/step - loss: 0.9653 - accuracy: 0.1026\n",
            "Epoch 23/25\n",
            "1562/1562 [==============================] - 38s 24ms/step - loss: 0.9596 - accuracy: 0.1019\n",
            "Epoch 24/25\n",
            "1562/1562 [==============================] - 39s 25ms/step - loss: 0.9500 - accuracy: 0.1011\n",
            "Epoch 25/25\n",
            "1562/1562 [==============================] - 39s 25ms/step - loss: 0.9475 - accuracy: 0.1011\n"
          ]
        },
        {
          "output_type": "execute_result",
          "data": {
            "text/plain": [
              "<keras.callbacks.History at 0x7f13e0044b10>"
            ]
          },
          "metadata": {},
          "execution_count": 14
        }
      ]
    },
    {
      "cell_type": "code",
      "metadata": {
        "colab": {
          "base_uri": "https://localhost:8080/"
        },
        "id": "7l0b0LFmzUS5",
        "outputId": "3d790150-4ee3-4a7a-e00e-c266246e979e"
      },
      "source": [
        "loss = model.evaluate(datagen.flow(test_images,test_labels), batch_size=32)"
      ],
      "execution_count": 15,
      "outputs": [
        {
          "output_type": "stream",
          "name": "stdout",
          "text": [
            "313/313 [==============================] - 7s 23ms/step - loss: 1.0197 - accuracy: 0.1099\n"
          ]
        }
      ]
    },
    {
      "cell_type": "code",
      "metadata": {
        "id": "KW6aU2j_3ZNy"
      },
      "source": [
        "y_pred = model.predict(test_images)"
      ],
      "execution_count": 16,
      "outputs": []
    },
    {
      "cell_type": "code",
      "metadata": {
        "colab": {
          "base_uri": "https://localhost:8080/",
          "height": 319
        },
        "id": "OVAqIE7o3oyZ",
        "outputId": "634317e4-70bb-44fb-a871-fe42da4691f9"
      },
      "source": [
        "list_num=\"\"\n",
        "while list_num.isdigit() == False:\n",
        "  list_num = input(\"Tahmin etmek istediginiz goruntunun indeksi..: \")\n",
        "  if int(list_num)>=len(test_images):\n",
        "    list_num=\"\"\n",
        "list_num = int(list_num)\n",
        "predicted_value=class_names[np.argmax(y_pred[list_num])]\n",
        "actual_value= class_names[test_labels[list_num][0]]\n",
        "print(f\"Real Value: {actual_value} - Predicted Value: {predicted_value}\")\n",
        "plt.figure()\n",
        "plt.imshow(test_images[list_num])"
      ],
      "execution_count": 17,
      "outputs": [
        {
          "output_type": "stream",
          "name": "stdout",
          "text": [
            "Tahmin etmek istediginiz goruntunun indeksi..: 14\n",
            "Real Value: truck - Predicted Value: truck\n"
          ]
        },
        {
          "output_type": "execute_result",
          "data": {
            "text/plain": [
              "<matplotlib.image.AxesImage at 0x7f12fb1a1e10>"
            ]
          },
          "metadata": {},
          "execution_count": 17
        },
        {
          "output_type": "display_data",
          "data": {
            "image/png": "[encoded data removed]",
            "text/plain": [
              "<Figure size 432x288 with 1 Axes>"
            ]
          },
          "metadata": {
            "needs_background": "light"
          }
        }
      ]
    },
    {
      "cell_type": "code",
      "metadata": {
        "colab": {
          "base_uri": "https://localhost:8080/",
          "height": 319
        },
        "id": "xXdE5IjT4PAv",
        "outputId": "4c16e44a-04ab-40bb-d9d7-2e9ab8e606f9"
      },
      "source": [
        "list_num=\"\"\n",
        "while list_num.isdigit() == False:\n",
        "  list_num = input(\"Tahmin etmek istediginiz goruntunun indeksi..: \")\n",
        "  if int(list_num)>=len(test_images):\n",
        "    list_num=\"\"\n",
        "list_num = int(list_num)\n",
        "predicted_value=class_names[np.argmax(y_pred[list_num])]\n",
        "actual_value= class_names[test_labels[list_num][0]]\n",
        "print(f\"Real Value: {actual_value} - Predicted Value: {predicted_value}\")\n",
        "plt.figure()\n",
        "plt.imshow(test_images[list_num])"
      ],
      "execution_count": 18,
      "outputs": [
        {
          "output_type": "stream",
          "name": "stdout",
          "text": [
            "Tahmin etmek istediginiz goruntunun indeksi..: 30\n",
            "Real Value: frog - Predicted Value: frog\n"
          ]
        },
        {
          "output_type": "execute_result",
          "data": {
            "text/plain": [
              "<matplotlib.image.AxesImage at 0x7f12fb942690>"
            ]
          },
          "metadata": {},
          "execution_count": 18
        },
        {
          "output_type": "display_data",
          "data": {
            "image/png": "[encoded data removed]",
            "text/plain": [
              "<Figure size 432x288 with 1 Axes>"
            ]
          },
          "metadata": {
            "needs_background": "light"
          }
        }
      ]
    }
  ]
}