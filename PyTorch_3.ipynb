{
  "nbformat": 4,
  "nbformat_minor": 0,
  "metadata": {
    "colab": {
      "name": "PyTorch_3.ipynb",
      "provenance": [],
      "authorship_tag": "ABX9TyNXzK0XE9920gypSWCgcjxG",
      "include_colab_link": true
    },
    "kernelspec": {
      "name": "python3",
      "display_name": "Python 3"
    },
    "language_info": {
      "name": "python"
    }
  },
  "cells": [
    {
      "cell_type": "markdown",
      "metadata": {
        "id": "view-in-github",
        "colab_type": "text"
      },
      "source": [
        "<a href=\"https://colab.research.google.com/github/gonulsinem/Deep-Learning---Derin-Ogrenme/blob/main/PyTorch_3.ipynb\" target=\"_parent\"><img src=\"https://colab.research.google.com/assets/colab-badge.svg\" alt=\"Open In Colab\"/></a>"
      ]
    },
    {
      "cell_type": "code",
      "metadata": {
        "id": "cnZxaXWwbPvv"
      },
      "source": [
        "# backpropagation - geri yayilim"
      ],
      "execution_count": null,
      "outputs": []
    },
    {
      "cell_type": "code",
      "metadata": {
        "id": "rgHptTk0gN6C"
      },
      "source": [
        "import torch"
      ],
      "execution_count": 1,
      "outputs": []
    },
    {
      "cell_type": "code",
      "metadata": {
        "colab": {
          "base_uri": "https://localhost:8080/"
        },
        "id": "DHkw_COwgOrg",
        "outputId": "0fa4712a-9e5d-427e-9012-2357816411a3"
      },
      "source": [
        "x = torch.tensor(1.0)\n",
        "print(x)\n",
        "y = torch.tensor(5.0)\n",
        "print(y)"
      ],
      "execution_count": 3,
      "outputs": [
        {
          "output_type": "stream",
          "name": "stdout",
          "text": [
            "tensor(1.)\n",
            "tensor(5.)\n"
          ]
        }
      ]
    },
    {
      "cell_type": "code",
      "metadata": {
        "colab": {
          "base_uri": "https://localhost:8080/"
        },
        "id": "dDlGG5epgali",
        "outputId": "382c5135-1725-497b-fb44-2c1d3a4a5012"
      },
      "source": [
        "z = torch.tensor(1.0, requires_grad=True)\n",
        "# kaybi hesaplamak icin forward - ileri hesaplama \n",
        "y_pred = z * x\n",
        "loss = (y_pred - y) ** 2\n",
        "print(loss)"
      ],
      "execution_count": 4,
      "outputs": [
        {
          "output_type": "stream",
          "name": "stdout",
          "text": [
            "tensor(16., grad_fn=<PowBackward0>)\n"
          ]
        }
      ]
    },
    {
      "cell_type": "code",
      "metadata": {
        "colab": {
          "base_uri": "https://localhost:8080/"
        },
        "id": "NjqUOs_Ig3dH",
        "outputId": "48e20f5d-1764-41ed-abc7-a7da0f693e7a"
      },
      "source": [
        "loss.backward()  # geri hesaplama, dLoss / dz -> z'ye gore loss'un kısmi turevi\n",
        "print(z.grad)"
      ],
      "execution_count": 5,
      "outputs": [
        {
          "output_type": "stream",
          "name": "stdout",
          "text": [
            "tensor(-8.)\n"
          ]
        }
      ]
    },
    {
      "cell_type": "code",
      "metadata": {
        "colab": {
          "base_uri": "https://localhost:8080/"
        },
        "id": "zBYfjseNhP_w",
        "outputId": "bd7bba82-cc24-4d71-da03-c2f056b77e9a"
      },
      "source": [
        "# update weights\n",
        "with torch.no_grad():\n",
        "  z -= 0.01 * z.grad\n",
        "z.grad.zero_()   \n"
      ],
      "execution_count": 10,
      "outputs": [
        {
          "output_type": "execute_result",
          "data": {
            "text/plain": [
              "tensor(0.)"
            ]
          },
          "metadata": {},
          "execution_count": 10
        }
      ]
    },
    {
      "cell_type": "code",
      "metadata": {
        "colab": {
          "base_uri": "https://localhost:8080/"
        },
        "id": "XxVYBFKAh2en",
        "outputId": "537cf4cd-a971-4d3e-f40d-d5e9d8780230"
      },
      "source": [
        "print(z)"
      ],
      "execution_count": 11,
      "outputs": [
        {
          "output_type": "stream",
          "name": "stdout",
          "text": [
            "tensor(1.1600, requires_grad=True)\n"
          ]
        }
      ]
    },
    {
      "cell_type": "code",
      "metadata": {
        "colab": {
          "base_uri": "https://localhost:8080/"
        },
        "id": "zV2_Qmk2iQm6",
        "outputId": "153bb5c0-790c-4bdc-e467-4bdd4280c219"
      },
      "source": [
        "print(z.grad_fn)"
      ],
      "execution_count": 12,
      "outputs": [
        {
          "output_type": "stream",
          "name": "stdout",
          "text": [
            "None\n"
          ]
        }
      ]
    },
    {
      "cell_type": "code",
      "metadata": {
        "colab": {
          "base_uri": "https://localhost:8080/"
        },
        "id": "Vtq5lg8AiWXx",
        "outputId": "fe699141-03ca-4dd3-f2a1-617ab52ed521"
      },
      "source": [
        "print(z.requires_grad)"
      ],
      "execution_count": 13,
      "outputs": [
        {
          "output_type": "stream",
          "name": "stdout",
          "text": [
            "True\n"
          ]
        }
      ]
    }
  ]
}