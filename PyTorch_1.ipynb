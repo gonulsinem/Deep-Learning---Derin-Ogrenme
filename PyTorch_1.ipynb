{
  "nbformat": 4,
  "nbformat_minor": 0,
  "metadata": {
    "colab": {
      "name": "PyTorch_1.ipynb",
      "provenance": [],
      "authorship_tag": "ABX9TyNXSe0EOrtZfwc9yZT22YNk",
      "include_colab_link": true
    },
    "kernelspec": {
      "name": "python3",
      "display_name": "Python 3"
    },
    "language_info": {
      "name": "python"
    }
  },
  "cells": [
    {
      "cell_type": "markdown",
      "metadata": {
        "id": "view-in-github",
        "colab_type": "text"
      },
      "source": [
        "<a href=\"https://colab.research.google.com/github/gonulsinem/Deep-Learning---Derin-Ogrenme/blob/main/PyTorch_1.ipynb\" target=\"_parent\"><img src=\"https://colab.research.google.com/assets/colab-badge.svg\" alt=\"Open In Colab\"/></a>"
      ]
    },
    {
      "cell_type": "markdown",
      "metadata": {
        "id": "A0ptSd5FRMnW"
      },
      "source": [
        "* PyTorch tensorlere dayanir.\n",
        "* Scalar 0 boyutlu, vector 1 boyutlu, matris 2 boyutlu tensordur.\n",
        "* scalar, vector, matrix, tensor"
      ]
    },
    {
      "cell_type": "code",
      "metadata": {
        "id": "bvmPWb4kQoTO"
      },
      "source": [
        "import torch"
      ],
      "execution_count": 1,
      "outputs": []
    },
    {
      "cell_type": "code",
      "metadata": {
        "id": "bt1hp_PYP_7h"
      },
      "source": [
        "import numpy as np"
      ],
      "execution_count": 38,
      "outputs": []
    },
    {
      "cell_type": "code",
      "metadata": {
        "colab": {
          "base_uri": "https://localhost:8080/"
        },
        "id": "xBheiL1QQ-tR",
        "outputId": "41d3e11d-b8fa-4b3c-e8e0-39ff92fe61b0"
      },
      "source": [
        "x1 = torch.empty(1) #scalar, skaler\n",
        "x1"
      ],
      "execution_count": 2,
      "outputs": [
        {
          "output_type": "execute_result",
          "data": {
            "text/plain": [
              "tensor([-9.8004e-07])"
            ]
          },
          "metadata": {},
          "execution_count": 2
        }
      ]
    },
    {
      "cell_type": "code",
      "metadata": {
        "colab": {
          "base_uri": "https://localhost:8080/"
        },
        "id": "Zb82ZGtwSdJk",
        "outputId": "997f896c-2fa0-410d-da2f-510f8292a87c"
      },
      "source": [
        "x2 = torch.empty(3) #vektor, vector\n",
        "x2"
      ],
      "execution_count": 3,
      "outputs": [
        {
          "output_type": "execute_result",
          "data": {
            "text/plain": [
              "tensor([-9.8004e-07,  3.0838e-41,  5.0447e-44])"
            ]
          },
          "metadata": {},
          "execution_count": 3
        }
      ]
    },
    {
      "cell_type": "code",
      "metadata": {
        "colab": {
          "base_uri": "https://localhost:8080/"
        },
        "id": "Xbr0fD_TSw6X",
        "outputId": "29807514-4a2b-4c7b-edea-0d3eef93a127"
      },
      "source": [
        "x3 = torch.empty(2,3) # 2x3 boyutunda matris, matrix\n",
        "x3"
      ],
      "execution_count": 4,
      "outputs": [
        {
          "output_type": "execute_result",
          "data": {
            "text/plain": [
              "tensor([[-9.8004e-07,  3.0838e-41,  0.0000e+00],\n",
              "        [ 0.0000e+00,  0.0000e+00,  0.0000e+00]])"
            ]
          },
          "metadata": {},
          "execution_count": 4
        }
      ]
    },
    {
      "cell_type": "code",
      "metadata": {
        "colab": {
          "base_uri": "https://localhost:8080/"
        },
        "id": "85l6i46cS6cw",
        "outputId": "5662052d-143d-4cbe-f7a0-69ff3f5c6ed9"
      },
      "source": [
        "x4 = torch.empty(3,2) # 3x2 boyutunda matrix\n",
        "x4"
      ],
      "execution_count": 5,
      "outputs": [
        {
          "output_type": "execute_result",
          "data": {
            "text/plain": [
              "tensor([[-9.8004e-07,  3.0838e-41],\n",
              "        [ 0.0000e+00,  0.0000e+00],\n",
              "        [ 0.0000e+00,  0.0000e+00]])"
            ]
          },
          "metadata": {},
          "execution_count": 5
        }
      ]
    },
    {
      "cell_type": "code",
      "metadata": {
        "colab": {
          "base_uri": "https://localhost:8080/"
        },
        "id": "ffgbPyGpTJoc",
        "outputId": "9e91f109-2690-4c0b-aa71-4eb1d4af21dd"
      },
      "source": [
        "x5 = torch.empty(2,2,3) # 3 boyutlu tensor\n",
        "x5"
      ],
      "execution_count": 6,
      "outputs": [
        {
          "output_type": "execute_result",
          "data": {
            "text/plain": [
              "tensor([[[-9.8004e-07,  3.0838e-41,  0.0000e+00],\n",
              "         [ 0.0000e+00,  0.0000e+00,  0.0000e+00]],\n",
              "\n",
              "        [[ 0.0000e+00,  0.0000e+00,  0.0000e+00],\n",
              "         [ 0.0000e+00,  0.0000e+00,  0.0000e+00]]])"
            ]
          },
          "metadata": {},
          "execution_count": 6
        }
      ]
    },
    {
      "cell_type": "code",
      "metadata": {
        "colab": {
          "base_uri": "https://localhost:8080/"
        },
        "id": "3sUbjdLETWCN",
        "outputId": "11fc3935-5ed9-493d-fdbb-c66b81102d57"
      },
      "source": [
        "x6 = torch.empty(2,2,3,3) # 4 boyutlu tensor\n",
        "x6"
      ],
      "execution_count": 7,
      "outputs": [
        {
          "output_type": "execute_result",
          "data": {
            "text/plain": [
              "tensor([[[[-9.5270e-07,  3.0838e-41,  0.0000e+00],\n",
              "          [ 0.0000e+00,  1.4013e-45,  0.0000e+00],\n",
              "          [ 0.0000e+00,  0.0000e+00,  0.0000e+00]],\n",
              "\n",
              "         [[ 0.0000e+00,  0.0000e+00,  0.0000e+00],\n",
              "          [-9.8941e-07,  3.0838e-41,  0.0000e+00],\n",
              "          [ 0.0000e+00,  2.8026e-45,  0.0000e+00]]],\n",
              "\n",
              "\n",
              "        [[[ 2.8026e-45,  0.0000e+00,  4.2039e-45],\n",
              "          [ 0.0000e+00,  0.0000e+00,  0.0000e+00],\n",
              "          [ 0.0000e+00,  0.0000e+00,  0.0000e+00]],\n",
              "\n",
              "         [[ 0.0000e+00,  4.2039e-45,  0.0000e+00],\n",
              "          [ 1.4013e-45,  0.0000e+00,  0.0000e+00],\n",
              "          [ 0.0000e+00,  0.0000e+00,  0.0000e+00]]]])"
            ]
          },
          "metadata": {},
          "execution_count": 7
        }
      ]
    },
    {
      "cell_type": "code",
      "metadata": {
        "colab": {
          "base_uri": "https://localhost:8080/"
        },
        "id": "EPW1mhXpThEx",
        "outputId": "c884f889-6900-4ca1-fa9e-21f493c0f428"
      },
      "source": [
        "x7 = torch.rand(5,3) # 0-1 arasinda deger alir.\n",
        "x7"
      ],
      "execution_count": 8,
      "outputs": [
        {
          "output_type": "execute_result",
          "data": {
            "text/plain": [
              "tensor([[0.1813, 0.4377, 0.7402],\n",
              "        [0.1514, 0.8202, 0.6959],\n",
              "        [0.4591, 0.0578, 0.3788],\n",
              "        [0.6296, 0.5801, 0.5658],\n",
              "        [0.6537, 0.4431, 0.2541]])"
            ]
          },
          "metadata": {},
          "execution_count": 8
        }
      ]
    },
    {
      "cell_type": "code",
      "metadata": {
        "colab": {
          "base_uri": "https://localhost:8080/"
        },
        "id": "wD7VsjMOTvug",
        "outputId": "146f1b51-0f7f-4d88-d0fc-ff9a9ab13cf1"
      },
      "source": [
        "x7 = torch.zeros(2,3)  # 2x3 boyutunda matrisi 0 ile doldurur.\n",
        "x7"
      ],
      "execution_count": 9,
      "outputs": [
        {
          "output_type": "execute_result",
          "data": {
            "text/plain": [
              "tensor([[0., 0., 0.],\n",
              "        [0., 0., 0.]])"
            ]
          },
          "metadata": {},
          "execution_count": 9
        }
      ]
    },
    {
      "cell_type": "code",
      "metadata": {
        "colab": {
          "base_uri": "https://localhost:8080/"
        },
        "id": "v8uTxhNGT8Sx",
        "outputId": "555d3190-c15f-4ffb-c786-ca9219f77286"
      },
      "source": [
        "x7 = torch.ones(5,3) # 5x3 boyutunda matrisi 1 ile doldurur.\n",
        "x7"
      ],
      "execution_count": 10,
      "outputs": [
        {
          "output_type": "execute_result",
          "data": {
            "text/plain": [
              "tensor([[1., 1., 1.],\n",
              "        [1., 1., 1.],\n",
              "        [1., 1., 1.],\n",
              "        [1., 1., 1.],\n",
              "        [1., 1., 1.]])"
            ]
          },
          "metadata": {},
          "execution_count": 10
        }
      ]
    },
    {
      "cell_type": "code",
      "metadata": {
        "colab": {
          "base_uri": "https://localhost:8080/"
        },
        "id": "16TL_bBYUR2L",
        "outputId": "45e26dcb-66cb-4364-b32c-74ab913232a8"
      },
      "source": [
        "print(x6.size())\n",
        "print(x7.size()) # boyutu\n",
        "print(x7.dtype) # verinin tipi"
      ],
      "execution_count": 11,
      "outputs": [
        {
          "output_type": "stream",
          "name": "stdout",
          "text": [
            "torch.Size([2, 2, 3, 3])\n",
            "torch.Size([5, 3])\n",
            "torch.float32\n"
          ]
        }
      ]
    },
    {
      "cell_type": "code",
      "metadata": {
        "colab": {
          "base_uri": "https://localhost:8080/"
        },
        "id": "-MiNrYG2UUpX",
        "outputId": "78392559-556c-4055-adaf-a83705961912"
      },
      "source": [
        "x8 = torch.tensor([2.5, 3])\n",
        "print(x8.size())"
      ],
      "execution_count": 12,
      "outputs": [
        {
          "output_type": "stream",
          "name": "stdout",
          "text": [
            "torch.Size([2])\n"
          ]
        }
      ]
    },
    {
      "cell_type": "code",
      "metadata": {
        "colab": {
          "base_uri": "https://localhost:8080/"
        },
        "id": "NtqPZhoAU1ho",
        "outputId": "7963b512-2a92-4083-ab77-dc7e043b0651"
      },
      "source": [
        "# requires_grad, gradyanlari hesaplar daha sonra optimize ederiz\n",
        "x9 = torch.tensor([2.5, 3], requires_grad=True)\n",
        "x9"
      ],
      "execution_count": 13,
      "outputs": [
        {
          "output_type": "execute_result",
          "data": {
            "text/plain": [
              "tensor([2.5000, 3.0000], requires_grad=True)"
            ]
          },
          "metadata": {},
          "execution_count": 13
        }
      ]
    },
    {
      "cell_type": "code",
      "metadata": {
        "colab": {
          "base_uri": "https://localhost:8080/"
        },
        "id": "tEW_lvwoVfFa",
        "outputId": "cb12fe49-8860-438b-b968-70add5ee568e"
      },
      "source": [
        "x = torch.rand(2,2)\n",
        "y = torch.rand(2,2)\n",
        "print(x)\n",
        "print(y)"
      ],
      "execution_count": 14,
      "outputs": [
        {
          "output_type": "stream",
          "name": "stdout",
          "text": [
            "tensor([[0.9632, 0.2849],\n",
            "        [0.0736, 0.6580]])\n",
            "tensor([[0.6474, 0.6525],\n",
            "        [0.2231, 0.9060]])\n"
          ]
        }
      ]
    },
    {
      "cell_type": "code",
      "metadata": {
        "colab": {
          "base_uri": "https://localhost:8080/"
        },
        "id": "ayw0s8z4VpED",
        "outputId": "bc6e5899-3d81-491b-a755-22f54552fe5a"
      },
      "source": [
        "z = x+y\n",
        "print(z)\n",
        "print(torch.add(x,y))"
      ],
      "execution_count": 15,
      "outputs": [
        {
          "output_type": "stream",
          "name": "stdout",
          "text": [
            "tensor([[1.6106, 0.9373],\n",
            "        [0.2968, 1.5640]])\n",
            "tensor([[1.6106, 0.9373],\n",
            "        [0.2968, 1.5640]])\n"
          ]
        }
      ]
    },
    {
      "cell_type": "code",
      "metadata": {
        "colab": {
          "base_uri": "https://localhost:8080/"
        },
        "id": "aLOG-kfEVomt",
        "outputId": "eb9dc9b9-6afd-4369-ece1-5196a24f9a82"
      },
      "source": [
        "z = x-y\n",
        "print(z)\n",
        "print(torch.sub(x,y))"
      ],
      "execution_count": 16,
      "outputs": [
        {
          "output_type": "stream",
          "name": "stdout",
          "text": [
            "tensor([[ 0.3159, -0.3676],\n",
            "        [-0.1495, -0.2481]])\n",
            "tensor([[ 0.3159, -0.3676],\n",
            "        [-0.1495, -0.2481]])\n"
          ]
        }
      ]
    },
    {
      "cell_type": "code",
      "metadata": {
        "colab": {
          "base_uri": "https://localhost:8080/"
        },
        "id": "eilODWJ0WB82",
        "outputId": "eea683f9-c364-4aab-f791-5e0cb885b1a5"
      },
      "source": [
        "z = x*y\n",
        "print(z)\n",
        "print(torch.mul(x,y))"
      ],
      "execution_count": 17,
      "outputs": [
        {
          "output_type": "stream",
          "name": "stdout",
          "text": [
            "tensor([[0.6236, 0.1859],\n",
            "        [0.0164, 0.5961]])\n",
            "tensor([[0.6236, 0.1859],\n",
            "        [0.0164, 0.5961]])\n"
          ]
        }
      ]
    },
    {
      "cell_type": "code",
      "metadata": {
        "colab": {
          "base_uri": "https://localhost:8080/"
        },
        "id": "J2EUsjvfWKGS",
        "outputId": "2e85ea96-2e33-4a94-97f8-d31ca96bf4cf"
      },
      "source": [
        "z = x/y\n",
        "print(z)\n",
        "print(torch.div(x,y))"
      ],
      "execution_count": 18,
      "outputs": [
        {
          "output_type": "stream",
          "name": "stdout",
          "text": [
            "tensor([[1.4880, 0.4366],\n",
            "        [0.3299, 0.7262]])\n",
            "tensor([[1.4880, 0.4366],\n",
            "        [0.3299, 0.7262]])\n"
          ]
        }
      ]
    },
    {
      "cell_type": "code",
      "metadata": {
        "colab": {
          "base_uri": "https://localhost:8080/"
        },
        "id": "TARNxNFlWTij",
        "outputId": "898da78c-9f4a-40e5-f402-b7706ad41ea0"
      },
      "source": [
        "# sciling - olcekleme\n",
        "# pandas olcekleme mantigiyla ayni\n",
        "x = torch.rand(6,4)\n",
        "print('x',x)\n",
        "print(x[:,0])\n",
        "print(x[1,:])\n",
        "print(x[1,1])\n",
        "print('Tümü..:\\n',x[:,:])\n"
      ],
      "execution_count": 21,
      "outputs": [
        {
          "output_type": "stream",
          "name": "stdout",
          "text": [
            "x tensor([[0.9399, 0.1715, 0.3722, 0.5972],\n",
            "        [0.6951, 0.1911, 0.5460, 0.1167],\n",
            "        [0.4917, 0.3019, 0.0977, 0.7682],\n",
            "        [0.0167, 0.4180, 0.7429, 0.4362],\n",
            "        [0.4085, 0.3057, 0.1967, 0.3333],\n",
            "        [0.8331, 0.9817, 0.4757, 0.9505]])\n",
            "tensor([0.9399, 0.6951, 0.4917, 0.0167, 0.4085, 0.8331])\n",
            "tensor([0.6951, 0.1911, 0.5460, 0.1167])\n",
            "tensor(0.1911)\n",
            "Tümü..:\n",
            " tensor([[0.9399, 0.1715, 0.3722, 0.5972],\n",
            "        [0.6951, 0.1911, 0.5460, 0.1167],\n",
            "        [0.4917, 0.3019, 0.0977, 0.7682],\n",
            "        [0.0167, 0.4180, 0.7429, 0.4362],\n",
            "        [0.4085, 0.3057, 0.1967, 0.3333],\n",
            "        [0.8331, 0.9817, 0.4757, 0.9505]])\n"
          ]
        }
      ]
    },
    {
      "cell_type": "code",
      "metadata": {
        "id": "wnwtHqrwabtY",
        "colab": {
          "base_uri": "https://localhost:8080/"
        },
        "outputId": "44f61732-a65d-46c6-9ae4-7a65f214f4c2"
      },
      "source": [
        "print(x[1,1])  #tensorde 1 deger var\n",
        "print(x[1,1].item())"
      ],
      "execution_count": 24,
      "outputs": [
        {
          "output_type": "stream",
          "name": "stdout",
          "text": [
            "tensor(0.1911)\n",
            "0.1910584568977356\n"
          ]
        }
      ]
    },
    {
      "cell_type": "code",
      "metadata": {
        "colab": {
          "base_uri": "https://localhost:8080/"
        },
        "id": "A3aW0TmRNVXP",
        "outputId": "8f14c15e-f6e5-4117-dc82-3dfff41a3bee"
      },
      "source": [
        "# torch.view() ile reshape yapilir\n",
        "x = torch.rand(4,4)\n",
        "print(x)"
      ],
      "execution_count": 45,
      "outputs": [
        {
          "output_type": "stream",
          "name": "stdout",
          "text": [
            "tensor([[0.1144, 0.6809, 0.3633, 0.0272],\n",
            "        [0.5512, 0.6424, 0.2738, 0.9107],\n",
            "        [0.4596, 0.3970, 0.8267, 0.4072],\n",
            "        [0.6491, 0.9266, 0.5770, 0.4905]])\n"
          ]
        }
      ]
    },
    {
      "cell_type": "code",
      "metadata": {
        "colab": {
          "base_uri": "https://localhost:8080/"
        },
        "id": "fY1Q4vuyN0Za",
        "outputId": "caeb9102-1a9b-4ecd-8616-0a7ae18184da"
      },
      "source": [
        "y = x.view(16) # 4x4 boyutundaki matris 16x1 boyutunda vektore donustu \n",
        "print(y)"
      ],
      "execution_count": 46,
      "outputs": [
        {
          "output_type": "stream",
          "name": "stdout",
          "text": [
            "tensor([0.1144, 0.6809, 0.3633, 0.0272, 0.5512, 0.6424, 0.2738, 0.9107, 0.4596,\n",
            "        0.3970, 0.8267, 0.4072, 0.6491, 0.9266, 0.5770, 0.4905])\n"
          ]
        }
      ]
    },
    {
      "cell_type": "code",
      "metadata": {
        "colab": {
          "base_uri": "https://localhost:8080/"
        },
        "id": "e_-YJ9oKN8HO",
        "outputId": "c0baebf6-a2f9-4bb3-f15d-f6a5e489eb33"
      },
      "source": [
        "z = x.view(-1,8) # -1'de boyut otomatik olarak belirlenir.\n",
        "print(z)"
      ],
      "execution_count": 47,
      "outputs": [
        {
          "output_type": "stream",
          "name": "stdout",
          "text": [
            "tensor([[0.1144, 0.6809, 0.3633, 0.0272, 0.5512, 0.6424, 0.2738, 0.9107],\n",
            "        [0.4596, 0.3970, 0.8267, 0.4072, 0.6491, 0.9266, 0.5770, 0.4905]])\n"
          ]
        }
      ]
    },
    {
      "cell_type": "code",
      "metadata": {
        "colab": {
          "base_uri": "https://localhost:8080/"
        },
        "id": "Ylk-Eel9OKv9",
        "outputId": "9e8a42fd-a2d9-4f7b-abff-63a8d99ca9d7"
      },
      "source": [
        "k = x.view(8,2) # 8x2 lik matrise donustu\n",
        "print(k)"
      ],
      "execution_count": 48,
      "outputs": [
        {
          "output_type": "stream",
          "name": "stdout",
          "text": [
            "tensor([[0.1144, 0.6809],\n",
            "        [0.3633, 0.0272],\n",
            "        [0.5512, 0.6424],\n",
            "        [0.2738, 0.9107],\n",
            "        [0.4596, 0.3970],\n",
            "        [0.8267, 0.4072],\n",
            "        [0.6491, 0.9266],\n",
            "        [0.5770, 0.4905]])\n"
          ]
        }
      ]
    },
    {
      "cell_type": "code",
      "metadata": {
        "colab": {
          "base_uri": "https://localhost:8080/"
        },
        "id": "6uxPA9-nOeAd",
        "outputId": "fdb3e411-a4e1-47b7-a7a3-d651e8c1270b"
      },
      "source": [
        "a = torch.ones(10)\n",
        "a"
      ],
      "execution_count": 34,
      "outputs": [
        {
          "output_type": "execute_result",
          "data": {
            "text/plain": [
              "tensor([1., 1., 1., 1., 1., 1., 1., 1., 1., 1.])"
            ]
          },
          "metadata": {},
          "execution_count": 34
        }
      ]
    },
    {
      "cell_type": "code",
      "metadata": {
        "colab": {
          "base_uri": "https://localhost:8080/"
        },
        "id": "m1daIKKsPWiM",
        "outputId": "f741f156-1fdd-4027-96a4-8055a56b55e5"
      },
      "source": [
        "b = a.numpy() # tensor numpy dizisine doonustu\n",
        "print(b)\n",
        "type(b)"
      ],
      "execution_count": 36,
      "outputs": [
        {
          "output_type": "stream",
          "name": "stdout",
          "text": [
            "[1. 1. 1. 1. 1. 1. 1. 1. 1. 1.]\n"
          ]
        },
        {
          "output_type": "execute_result",
          "data": {
            "text/plain": [
              "numpy.ndarray"
            ]
          },
          "metadata": {},
          "execution_count": 36
        }
      ]
    },
    {
      "cell_type": "code",
      "metadata": {
        "colab": {
          "base_uri": "https://localhost:8080/"
        },
        "id": "IHCbEQeTPfwl",
        "outputId": "cc9042d2-f384-4e2a-805f-2fb34793b1f8"
      },
      "source": [
        "a.add_(1) # CPU uzerinde calisiyorsa a ve b ayni anda degisir.\n",
        "print(a)\n",
        "print(b)"
      ],
      "execution_count": 37,
      "outputs": [
        {
          "output_type": "stream",
          "name": "stdout",
          "text": [
            "tensor([2., 2., 2., 2., 2., 2., 2., 2., 2., 2.])\n",
            "[2. 2. 2. 2. 2. 2. 2. 2. 2. 2.]\n"
          ]
        }
      ]
    },
    {
      "cell_type": "code",
      "metadata": {
        "colab": {
          "base_uri": "https://localhost:8080/"
        },
        "id": "7TKspSMjQDaE",
        "outputId": "6c494da9-648c-4133-8fc5-7ff674dbe445"
      },
      "source": [
        "x = np.ones(5)\n",
        "y = torch.from_numpy(x)\n",
        "print(x)\n",
        "print(type(x))\n",
        "print(y)\n",
        "print(type(y))"
      ],
      "execution_count": 39,
      "outputs": [
        {
          "output_type": "stream",
          "name": "stdout",
          "text": [
            "[1. 1. 1. 1. 1.]\n",
            "<class 'numpy.ndarray'>\n",
            "tensor([1., 1., 1., 1., 1.], dtype=torch.float64)\n",
            "<class 'torch.Tensor'>\n"
          ]
        }
      ]
    },
    {
      "cell_type": "code",
      "metadata": {
        "colab": {
          "base_uri": "https://localhost:8080/"
        },
        "id": "dP_0XKXDQSah",
        "outputId": "58aead28-c43d-4e52-f399-53b121f9e575"
      },
      "source": [
        "x +=1\n",
        "print(x)\n",
        "print(y)\n",
        "#varsayilan olarak hepsi CPU'da calisir."
      ],
      "execution_count": 40,
      "outputs": [
        {
          "output_type": "stream",
          "name": "stdout",
          "text": [
            "[2. 2. 2. 2. 2.]\n",
            "tensor([2., 2., 2., 2., 2.], dtype=torch.float64)\n"
          ]
        }
      ]
    }
  ]
}