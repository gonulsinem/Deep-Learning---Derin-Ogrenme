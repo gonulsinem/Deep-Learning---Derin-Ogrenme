{
  "nbformat": 4,
  "nbformat_minor": 0,
  "metadata": {
    "colab": {
      "name": "PyTorch_2.ipynb",
      "provenance": [],
      "authorship_tag": "ABX9TyMLVsklD8Gzq/GnVdjy2Vzs",
      "include_colab_link": true
    },
    "kernelspec": {
      "name": "python3",
      "display_name": "Python 3"
    },
    "language_info": {
      "name": "python"
    }
  },
  "cells": [
    {
      "cell_type": "markdown",
      "metadata": {
        "id": "view-in-github",
        "colab_type": "text"
      },
      "source": [
        "<a href=\"https://colab.research.google.com/github/gonulsinem/Deep-Learning---Derin-Ogrenme/blob/main/PyTorch_2.ipynb\" target=\"_parent\"><img src=\"https://colab.research.google.com/assets/colab-badge.svg\" alt=\"Open In Colab\"/></a>"
      ]
    },
    {
      "cell_type": "code",
      "metadata": {
        "id": "ANm1X5NbSdO9"
      },
      "source": [
        "import torch\n",
        "import numpy as np\n",
        "#kutuphaneler import edildi"
      ],
      "execution_count": 1,
      "outputs": []
    },
    {
      "cell_type": "code",
      "metadata": {
        "colab": {
          "base_uri": "https://localhost:8080/"
        },
        "id": "wOjrX7WsS5M-",
        "outputId": "ce40e6f9-67d1-40ed-d2d6-9f77288df0e8"
      },
      "source": [
        "# autograd paketi otomatik farklilasma saglar\n",
        "# Zincir kuralını uygularken kısmi türevleri hesaplar\n",
        "x = torch.rand(5, requires_grad=True)\n",
        "print(x)\n",
        "\n",
        "y = x+3\n",
        "print(y)\n",
        "\n",
        "print(x.grad_fn)\n",
        "print(y.grad_fn)"
      ],
      "execution_count": 4,
      "outputs": [
        {
          "output_type": "stream",
          "name": "stdout",
          "text": [
            "tensor([0.2056, 0.1412, 0.5449, 0.4543, 0.8524], requires_grad=True)\n",
            "tensor([3.2056, 3.1412, 3.5449, 3.4543, 3.8524], grad_fn=<AddBackward0>)\n",
            "None\n",
            "<AddBackward0 object at 0x7f35a89cbed0>\n"
          ]
        }
      ]
    },
    {
      "cell_type": "code",
      "metadata": {
        "colab": {
          "base_uri": "https://localhost:8080/"
        },
        "id": "dJRhflWvTj08",
        "outputId": "a18b07a5-492a-423d-b11f-8addb7afde95"
      },
      "source": [
        "print(y,'\\n')\n",
        "z = y*y*3\n",
        "print(z,'\\n')\n",
        "z = z.mean()\n",
        "print(z)"
      ],
      "execution_count": 5,
      "outputs": [
        {
          "output_type": "stream",
          "name": "stdout",
          "text": [
            "tensor([3.2056, 3.1412, 3.5449, 3.4543, 3.8524], grad_fn=<AddBackward0>) \n",
            "\n",
            "tensor([30.8280, 29.6019, 37.6980, 35.7962, 44.5220], grad_fn=<MulBackward0>) \n",
            "\n",
            "tensor(35.6892, grad_fn=<MeanBackward0>)\n"
          ]
        }
      ]
    },
    {
      "cell_type": "code",
      "metadata": {
        "colab": {
          "base_uri": "https://localhost:8080/"
        },
        "id": "yBmDtsvbUu3F",
        "outputId": "c76e90d7-2774-4e6d-bbc7-776e5e010b51"
      },
      "source": [
        "z.backward()\n",
        "print(x.grad) #dz/dx -> x'e gore kısmi turevi"
      ],
      "execution_count": 7,
      "outputs": [
        {
          "output_type": "stream",
          "name": "stdout",
          "text": [
            "tensor([3.8467, 3.7695, 4.2538, 4.1451, 4.6228])\n"
          ]
        }
      ]
    },
    {
      "cell_type": "code",
      "metadata": {
        "colab": {
          "base_uri": "https://localhost:8080/"
        },
        "id": "m3MfbqCsU8gn",
        "outputId": "7fa424e4-9850-4351-d97c-751dfe653911"
      },
      "source": [
        "x = torch.rand(5, requires_grad=True)\n",
        "print(x,'\\n')\n",
        "\n",
        "y = x*2\n",
        "for i in range(10):\n",
        "  y = y*2\n",
        "\n",
        "print(y)\n",
        "print(y.shape)  "
      ],
      "execution_count": 12,
      "outputs": [
        {
          "output_type": "stream",
          "name": "stdout",
          "text": [
            "tensor([0.1890, 0.0077, 0.8011, 0.1491, 0.3703], requires_grad=True) \n",
            "\n",
            "tensor([ 387.1010,   15.7023, 1640.7482,  305.3612,  758.4712],\n",
            "       grad_fn=<MulBackward0>)\n",
            "torch.Size([5])\n"
          ]
        }
      ]
    },
    {
      "cell_type": "code",
      "metadata": {
        "colab": {
          "base_uri": "https://localhost:8080/"
        },
        "id": "x4ql1Q4lVXcR",
        "outputId": "c4a545e0-9843-42a3-cd29-326a2a843cdc"
      },
      "source": [
        "a = torch.randn(2,2)\n",
        "print(a.requires_grad)"
      ],
      "execution_count": 13,
      "outputs": [
        {
          "output_type": "stream",
          "name": "stdout",
          "text": [
            "False\n"
          ]
        }
      ]
    },
    {
      "cell_type": "code",
      "metadata": {
        "colab": {
          "base_uri": "https://localhost:8080/"
        },
        "id": "zwVCP5ueWBNE",
        "outputId": "1b88ada0-0ee2-4666-9c62-697923164b14"
      },
      "source": [
        "b = ((a*2) / (a-2))\n",
        "print(b)\n",
        "print(b.grad_fn)"
      ],
      "execution_count": 16,
      "outputs": [
        {
          "output_type": "stream",
          "name": "stdout",
          "text": [
            "tensor([[ 0.4867,  0.1739],\n",
            "        [-1.4114, -0.2140]])\n",
            "None\n"
          ]
        }
      ]
    },
    {
      "cell_type": "code",
      "metadata": {
        "colab": {
          "base_uri": "https://localhost:8080/"
        },
        "id": "OJxjctekWJey",
        "outputId": "91dabb64-7f53-42c5-f6a9-8f6b31d942fc"
      },
      "source": [
        "a.requires_grad_(True)\n",
        "print(a.requires_grad)"
      ],
      "execution_count": 20,
      "outputs": [
        {
          "output_type": "stream",
          "name": "stdout",
          "text": [
            "True\n"
          ]
        }
      ]
    },
    {
      "cell_type": "code",
      "metadata": {
        "colab": {
          "base_uri": "https://localhost:8080/"
        },
        "id": "-qltrghFWxfX",
        "outputId": "3a04c0f6-e255-44f4-c523-32094cfd93d1"
      },
      "source": [
        "b = (a * a).sum()\n",
        "print(b.grad_fn)"
      ],
      "execution_count": 21,
      "outputs": [
        {
          "output_type": "stream",
          "name": "stdout",
          "text": [
            "<SumBackward0 object at 0x7f34acc6ebd0>\n"
          ]
        }
      ]
    },
    {
      "cell_type": "code",
      "metadata": {
        "colab": {
          "base_uri": "https://localhost:8080/"
        },
        "id": "0OCpI7VsW2Tm",
        "outputId": "09235d81-4e0a-4c3c-e7cf-d97c284771aa"
      },
      "source": [
        "a = torch.randn(3,3, requires_grad=True)\n",
        "print(a.requires_grad)"
      ],
      "execution_count": 22,
      "outputs": [
        {
          "output_type": "stream",
          "name": "stdout",
          "text": [
            "True\n"
          ]
        }
      ]
    },
    {
      "cell_type": "code",
      "metadata": {
        "colab": {
          "base_uri": "https://localhost:8080/"
        },
        "id": "vpsz_5BhWXqP",
        "outputId": "f5c53728-59c2-43f7-dfe5-af20b6588ae6"
      },
      "source": [
        "b = a.detach() # gradyan hesaplamasi olmadan ayni tensoru tekrar aldi\n",
        "print(b.requires_grad)"
      ],
      "execution_count": 23,
      "outputs": [
        {
          "output_type": "stream",
          "name": "stdout",
          "text": [
            "False\n"
          ]
        }
      ]
    },
    {
      "cell_type": "code",
      "metadata": {
        "colab": {
          "base_uri": "https://localhost:8080/"
        },
        "id": "iFyZXT-8WhAw",
        "outputId": "a0c01c77-e1f9-484a-9989-3a5255b72688"
      },
      "source": [
        "k = torch.randn(2,2, requires_grad=True)\n",
        "print(k.requires_grad)\n",
        "with torch.no_grad():\n",
        "  print((x ** 2).requires_grad)\n",
        "\n",
        "print('\\n****')\n",
        "print(k)\n",
        "print(x)\n",
        "print(x.grad_fn)\n",
        "print(x.requires_grad)\n"
      ],
      "execution_count": 29,
      "outputs": [
        {
          "output_type": "stream",
          "name": "stdout",
          "text": [
            "True\n",
            "False\n",
            "\n",
            "****\n",
            "tensor([[-1.1938,  1.9829],\n",
            "        [ 1.0465,  1.4674]], requires_grad=True)\n",
            "tensor([[-0.3120,  0.7854],\n",
            "        [ 0.5602, -0.2539]], requires_grad=True)\n",
            "None\n",
            "True\n"
          ]
        }
      ]
    },
    {
      "cell_type": "code",
      "metadata": {
        "colab": {
          "base_uri": "https://localhost:8080/"
        },
        "id": "tJOJRqXNXoHm",
        "outputId": "3206da75-0e45-4e14-9789-970dd3ef9f09"
      },
      "source": [
        "# backward() grad attribute ile toplar\n",
        "weights = torch.ones(4, requires_grad=True)\n",
        "\n",
        "for epoch in range(5):\n",
        "  model_output = (weights*5).sum()\n",
        "  model_output.backward()\n",
        "\n",
        "  print(weights.grad)\n",
        "\n",
        "  with torch.no_grad():\n",
        "    weights -= 0.2 * weights.grad\n",
        "  weights.grad.zero_() #agirlikklar ve ciktiyi ekler    \n",
        "  #optimizer zero_grad() yontemiyle hesaplama yapar.\n",
        "\n",
        "print('\\n ***** \\n')\n",
        "print(weights)\n",
        "print(model_output)  "
      ],
      "execution_count": 40,
      "outputs": [
        {
          "output_type": "stream",
          "name": "stdout",
          "text": [
            "tensor([5., 5., 5., 5.])\n",
            "tensor([5., 5., 5., 5.])\n",
            "tensor([5., 5., 5., 5.])\n",
            "tensor([5., 5., 5., 5.])\n",
            "tensor([5., 5., 5., 5.])\n",
            "\n",
            " ***** \n",
            "\n",
            "tensor([-4., -4., -4., -4.], requires_grad=True)\n",
            "tensor(-60., grad_fn=<SumBackward0>)\n"
          ]
        }
      ]
    }
  ]
}